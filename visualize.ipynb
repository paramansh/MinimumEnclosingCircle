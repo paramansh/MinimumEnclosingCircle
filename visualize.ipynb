{
 "cells": [
  {
   "cell_type": "code",
   "execution_count": 1,
   "metadata": {},
   "outputs": [],
   "source": [
    "import numpy as np\n",
    "import matplotlib.pyplot as plt"
   ]
  },
  {
   "cell_type": "code",
   "execution_count": 6,
   "metadata": {},
   "outputs": [
    {
     "data": {
      "text/plain": [
       "<matplotlib.figure.Figure at 0x7f49c5923b90>"
      ]
     },
     "metadata": {},
     "output_type": "display_data"
    },
    {
     "data": {
      "image/png": "[encoded data removed]",
      "text/plain": [
       "<matplotlib.figure.Figure at 0x7f49c58e2ed0>"
      ]
     },
     "metadata": {},
     "output_type": "display_data"
    }
   ],
   "source": [
    "pts = np.loadtxt('points.txt')\n",
    "circle = np.loadtxt('circle.txt')\n",
    "x = circle[0]\n",
    "y = circle[1]\n",
    "r = circle[2]\n",
    "circle1 = plt.Circle((x, y), r, color='r', clip_on=False, fill=False)\n",
    "\n",
    "fig, ax = plt.subplots() # note we must use plt.subplots, not plt.subplot\n",
    "# (or if you have an existing figure)\n",
    "fig = plt.gcf()\n",
    "ax = fig.gca()\n",
    "\n",
    "ax.set_xlim((1.1*(x - r), 1.1*(x+r)))\n",
    "ax.set_ylim((1.1*(y - r), 1.1*(y+r)))\n",
    "ax.add_artist(circle1)\n",
    "\n",
    "plt.scatter(pts[:,0], pts[:,1], marker='+')\n",
    "\n",
    "plt.show()\n",
    "plt.savefig('1.jpg')"
   ]
  },
  {
   "cell_type": "code",
   "execution_count": null,
   "metadata": {},
   "outputs": [],
   "source": []
  }
 ],
 "metadata": {
  "kernelspec": {
   "display_name": "Python 2",
   "language": "python",
   "name": "python2"
  },
  "language_info": {
   "codemirror_mode": {
    "name": "ipython",
    "version": 2
   },
   "file_extension": ".py",
   "mimetype": "text/x-python",
   "name": "python",
   "nbconvert_exporter": "python",
   "pygments_lexer": "ipython2",
   "version": "2.7.12"
  }
 },
 "nbformat": 4,
 "nbformat_minor": 2
}
